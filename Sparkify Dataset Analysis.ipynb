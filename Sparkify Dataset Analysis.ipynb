{
 "cells": [
  {
   "cell_type": "markdown",
   "metadata": {},
   "source": [
    "# Data Wrangling with DataFrames"
   ]
  },
  {
   "cell_type": "code",
   "execution_count": 1,
   "metadata": {},
   "outputs": [],
   "source": [
    "from pyspark.sql import SparkSession\n",
    "from pyspark.sql.functions import udf, col, desc\n",
    "from pyspark.sql.types import IntegerType\n",
    "from pyspark.sql.functions import sum as Fsum\n",
    "from pyspark.sql.window import Window"
   ]
  },
  {
   "cell_type": "code",
   "execution_count": 2,
   "metadata": {},
   "outputs": [],
   "source": [
    "# Instantiates a Spark session \n",
    "spark = SparkSession \\\n",
    "        .builder \\\n",
    "        .appName(\"Data Wrangling with DataFrames\") \\\n",
    "        .getOrCreate()"
   ]
  },
  {
   "cell_type": "code",
   "execution_count": 3,
   "metadata": {},
   "outputs": [],
   "source": [
    "dataPath = \"data/sparkify_log_small.json\"\n",
    "data = spark.read.json(dataPath)"
   ]
  },
  {
   "cell_type": "markdown",
   "metadata": {},
   "source": [
    "# Dataset "
   ]
  },
  {
   "cell_type": "code",
   "execution_count": 4,
   "metadata": {},
   "outputs": [
    {
     "name": "stdout",
     "output_type": "stream",
     "text": [
      "root\n",
      " |-- artist: string (nullable = true)\n",
      " |-- auth: string (nullable = true)\n",
      " |-- firstName: string (nullable = true)\n",
      " |-- gender: string (nullable = true)\n",
      " |-- itemInSession: long (nullable = true)\n",
      " |-- lastName: string (nullable = true)\n",
      " |-- length: double (nullable = true)\n",
      " |-- level: string (nullable = true)\n",
      " |-- location: string (nullable = true)\n",
      " |-- method: string (nullable = true)\n",
      " |-- page: string (nullable = true)\n",
      " |-- registration: long (nullable = true)\n",
      " |-- sessionId: long (nullable = true)\n",
      " |-- song: string (nullable = true)\n",
      " |-- status: long (nullable = true)\n",
      " |-- ts: long (nullable = true)\n",
      " |-- userAgent: string (nullable = true)\n",
      " |-- userId: string (nullable = true)\n",
      "\n",
      "# Records: 10000 \n"
     ]
    }
   ],
   "source": [
    "data.printSchema()\n",
    "print(\"# Records: {} \".format(data.count()))"
   ]
  },
  {
   "cell_type": "code",
   "execution_count": 5,
   "metadata": {},
   "outputs": [
    {
     "data": {
      "text/plain": [
       "Row(artist='Showaddywaddy', auth='Logged In', firstName='Kenneth', gender='M', itemInSession=112, lastName='Matthews', length=232.93342, level='paid', location='Charlotte-Concord-Gastonia, NC-SC', method='PUT', page='NextSong', registration=1509380319284, sessionId=5132, song='Christmas Tears Will Fall', status=200, ts=1513720872284, userAgent='\"Mozilla/5.0 (Windows NT 6.1) AppleWebKit/537.36 (KHTML, like Gecko) Chrome/36.0.1985.125 Safari/537.36\"', userId='1046')"
      ]
     },
     "execution_count": 5,
     "metadata": {},
     "output_type": "execute_result"
    }
   ],
   "source": [
    "data.head()"
   ]
  },
  {
   "cell_type": "markdown",
   "metadata": {},
   "source": [
    "# Question 1\n",
    "\n",
    "Which page did user id \"\" (empty string) NOT visit?"
   ]
  },
  {
   "cell_type": "code",
   "execution_count": 6,
   "metadata": {},
   "outputs": [
    {
     "name": "stdout",
     "output_type": "stream",
     "text": [
      "+-------+------------------+\n",
      "|summary|            userId|\n",
      "+-------+------------------+\n",
      "|  count|             10000|\n",
      "|   mean|1442.4413286423842|\n",
      "| stddev| 829.8909432082621|\n",
      "|    min|                  |\n",
      "|    max|               999|\n",
      "+-------+------------------+\n",
      "\n",
      "# records for user with no id: 336\n"
     ]
    }
   ],
   "source": [
    "data.describe(\"userId\").show()\n",
    "recordsForUserWithNoId = data.filter(data.userId == \"\")\n",
    "print(\"# records for user with no id: {}\".format(recordsForUserWithNoId.count()))"
   ]
  },
  {
   "cell_type": "code",
   "execution_count": 7,
   "metadata": {},
   "outputs": [
    {
     "name": "stdout",
     "output_type": "stream",
     "text": [
      "+------+-----+\n",
      "|artist| page|\n",
      "+------+-----+\n",
      "|  null|Login|\n",
      "|  null| Home|\n",
      "|  null| Home|\n",
      "|  null| Home|\n",
      "|  null|Login|\n",
      "|  null|Login|\n",
      "|  null| Home|\n",
      "|  null| Home|\n",
      "|  null|Login|\n",
      "|  null| Home|\n",
      "|  null|Login|\n",
      "|  null| Home|\n",
      "|  null| Help|\n",
      "|  null| Home|\n",
      "|  null|Login|\n",
      "|  null| Home|\n",
      "|  null|Login|\n",
      "|  null| Home|\n",
      "|  null|Login|\n",
      "|  null| Home|\n",
      "+------+-----+\n",
      "only showing top 20 rows\n",
      "\n"
     ]
    }
   ],
   "source": [
    "dataForUserWithNoId = data.select([\"artist\", \"page\"]).where(data.userId == \"\")\n",
    "dataForUserWithNoId.show()"
   ]
  },
  {
   "cell_type": "code",
   "execution_count": 8,
   "metadata": {},
   "outputs": [],
   "source": [
    "allPages = data.select(\"page\").dropDuplicates().collect()\n",
    "pagesVisitedByUser = dataForUserWithNoId.select(\"page\").dropDuplicates().collect()"
   ]
  },
  {
   "cell_type": "code",
   "execution_count": 9,
   "metadata": {},
   "outputs": [
    {
     "name": "stdout",
     "output_type": "stream",
     "text": [
      "Available pages: [Row(page='Submit Downgrade'), Row(page='Home'), Row(page='Downgrade'), Row(page='Logout'), Row(page='Save Settings'), Row(page='About'), Row(page='Settings'), Row(page='Login'), Row(page='NextSong'), Row(page='Help'), Row(page='Upgrade'), Row(page='Error'), Row(page='Submit Upgrade')]\n",
      "\n",
      "Pages visited by user: [Row(page='Home'), Row(page='About'), Row(page='Login'), Row(page='Help')]\n",
      "\n",
      "Pages not visited by user:\n",
      "Submit Downgrade\n",
      "Downgrade\n",
      "Submit Upgrade\n",
      "Error\n",
      "Settings\n",
      "Logout\n",
      "NextSong\n",
      "Upgrade\n",
      "Save Settings\n"
     ]
    }
   ],
   "source": [
    "print(\"Available pages: {}\\n\".format(allPages))\n",
    "print(\"Pages visited by user: {}\\n\".format(pagesVisitedByUser))\n",
    "\n",
    "print(\"Pages not visited by user:\")\n",
    "for row in set(allPages) - set(pagesVisitedByUser):\n",
    "    print(row.page)"
   ]
  },
  {
   "cell_type": "markdown",
   "metadata": {},
   "source": [
    "# Question 2\n",
    "\n",
    "How many female users do we have in the data set?"
   ]
  },
  {
   "cell_type": "code",
   "execution_count": 10,
   "metadata": {},
   "outputs": [
    {
     "name": "stdout",
     "output_type": "stream",
     "text": [
      "# of female user in the dataset: 462\n"
     ]
    }
   ],
   "source": [
    "numberOfFemaleUsers = data.select([\"userId\"]).filter(data.gender == \"F\").dropDuplicates().count()\n",
    "print(\"# of female user in the dataset: {}\".format(numberOfFemaleUsers))"
   ]
  },
  {
   "cell_type": "markdown",
   "metadata": {},
   "source": [
    "# Question 3\n",
    "\n",
    "How many songs were played from the most played artist?"
   ]
  },
  {
   "cell_type": "code",
   "execution_count": 11,
   "metadata": {},
   "outputs": [],
   "source": [
    "mostPlayedArtist = data.dropna(how = \"any\", subset = [\"userId\", \"sessionId\", \"artist\"]) \\\n",
    "                       .groupBy(data.artist) \\\n",
    "                       .count() \\\n",
    "                       .withColumnRenamed(\"count\", \"Times Played\") \\\n",
    "                       .orderBy(data.artist) \\\n",
    "                       .sort(\"Times Played\", ascending=False)"
   ]
  },
  {
   "cell_type": "code",
   "execution_count": 12,
   "metadata": {},
   "outputs": [
    {
     "name": "stdout",
     "output_type": "stream",
     "text": [
      "+--------------------+------------+\n",
      "|              artist|Times Played|\n",
      "+--------------------+------------+\n",
      "|            Coldplay|          83|\n",
      "|       Kings Of Leon|          69|\n",
      "|Florence + The Ma...|          52|\n",
      "|            BjÃÂ¶rk|          46|\n",
      "|       Dwight Yoakam|          45|\n",
      "|       Justin Bieber|          43|\n",
      "|      The Black Keys|          40|\n",
      "|         OneRepublic|          37|\n",
      "|        Jack Johnson|          36|\n",
      "|                Muse|          36|\n",
      "|           Radiohead|          31|\n",
      "|        Taylor Swift|          29|\n",
      "|               Train|          28|\n",
      "|Barry Tuckwell/Ac...|          28|\n",
      "|          Lily Allen|          28|\n",
      "|          Nickelback|          27|\n",
      "|           Daft Punk|          27|\n",
      "|           Metallica|          27|\n",
      "|          Kanye West|          26|\n",
      "|Red Hot Chili Pep...|          24|\n",
      "+--------------------+------------+\n",
      "only showing top 20 rows\n",
      "\n"
     ]
    }
   ],
   "source": [
    "mostPlayedArtist.show()"
   ]
  },
  {
   "cell_type": "code",
   "execution_count": 13,
   "metadata": {},
   "outputs": [
    {
     "name": "stdout",
     "output_type": "stream",
     "text": [
      "Most played artist:\n",
      "+--------+------------+\n",
      "|  artist|Times Played|\n",
      "+--------+------------+\n",
      "|Coldplay|          83|\n",
      "+--------+------------+\n",
      "only showing top 1 row\n",
      "\n"
     ]
    }
   ],
   "source": [
    "print(\"Most played artist:\")\n",
    "mostPlayedArtist.show(1)"
   ]
  },
  {
   "cell_type": "markdown",
   "metadata": {},
   "source": [
    "# Question 4\n",
    "\n",
    "How many songs do users listen to on average between visiting our home page? Please round your answer to the closest integer.\n",
    "\n"
   ]
  },
  {
   "cell_type": "code",
   "execution_count": 14,
   "metadata": {},
   "outputs": [],
   "source": [
    "hasVisitedHomePage = udf(lambda visitedHomePage : int(visitedHomePage == \"Home\"), IntegerType())"
   ]
  },
  {
   "cell_type": "code",
   "execution_count": 15,
   "metadata": {},
   "outputs": [],
   "source": [
    "user_window = Window \\\n",
    "    .partitionBy('userID') \\\n",
    "    .orderBy(desc('ts')) \\\n",
    "    .rangeBetween(Window.unboundedPreceding, 0)"
   ]
  },
  {
   "cell_type": "code",
   "execution_count": 16,
   "metadata": {},
   "outputs": [],
   "source": [
    "usersVisitedHomePage = data.filter((data.page == \"NextSong\") | (data.page == \"Home\")) \\\n",
    "                           .select([\"userId\", \"page\", \"song\", \"ts\"]) \\\n",
    "                           .withColumn(\"visitedHomePage\", hasVisitedHomePage(col(\"page\"))) \\\n",
    "                           .withColumn('period', Fsum('visitedHomePage').over(user_window))"
   ]
  },
  {
   "cell_type": "code",
   "execution_count": 17,
   "metadata": {},
   "outputs": [
    {
     "name": "stdout",
     "output_type": "stream",
     "text": [
      "+------+--------+--------------------+-------------+---------------+------+\n",
      "|userId|    page|                song|           ts|visitedHomePage|period|\n",
      "+------+--------+--------------------+-------------+---------------+------+\n",
      "|  1436|NextSong| Throw It In The Bag|1513783259284|              0|     0|\n",
      "|  1436|NextSong|Atom Bomb (Atomix 2)|1513782858284|              0|     0|\n",
      "|  2088|    Home|                null|1513805972284|              1|     1|\n",
      "|  2088|NextSong|          Back To Me|1513805859284|              0|     1|\n",
      "|  2088|NextSong|Keep On Hoping [F...|1513805494284|              0|     1|\n",
      "|  2088|NextSong|              Shanti|1513805065284|              0|     1|\n",
      "|  2088|NextSong|   Rest Of Your Life|1513804786284|              0|     1|\n",
      "|  2088|NextSong|Inside The Fire (...|1513804555284|              0|     1|\n",
      "|  2088|NextSong|             Siechen|1513804196284|              0|     1|\n",
      "|  2088|NextSong|            Spectrum|1513803967284|              0|     1|\n",
      "|  2088|NextSong|Wait And Bleed (A...|1513803820284|              0|     1|\n",
      "|  2088|NextSong|Wake Up Little Susie|1513803651284|              0|     1|\n",
      "|  2088|NextSong|         Skinny Love|1513803413284|              0|     1|\n",
      "|  2088|NextSong|  From Blue To Green|1513803254284|              0|     1|\n",
      "|  2088|NextSong|         Zon zon zon|1513803057284|              0|     1|\n",
      "|  2088|NextSong|          Two Wrongs|1513802824284|              0|     1|\n",
      "|  2162|NextSong|   People Gotta Move|1513781246284|              0|     0|\n",
      "|  2162|NextSong|Catch You Baby (S...|1513781065284|              0|     0|\n",
      "|  2162|NextSong|        Golden Touch|1513780860284|              0|     0|\n",
      "|  2162|NextSong|A Time To Be So S...|1513780569284|              0|     0|\n",
      "+------+--------+--------------------+-------------+---------------+------+\n",
      "only showing top 20 rows\n",
      "\n"
     ]
    }
   ],
   "source": [
    "usersVisitedHomePage.show()"
   ]
  },
  {
   "cell_type": "code",
   "execution_count": 18,
   "metadata": {},
   "outputs": [
    {
     "name": "stdout",
     "output_type": "stream",
     "text": [
      "+-----------------------------------------+\n",
      "|Average time between a home page visiting|\n",
      "+-----------------------------------------+\n",
      "|                        6.898347107438017|\n",
      "+-----------------------------------------+\n",
      "\n"
     ]
    }
   ],
   "source": [
    "usersVisitedHomePage.filter((usersVisitedHomePage.page == 'NextSong')) \\\n",
    "                    .groupBy('userID', 'period') \\\n",
    "                    .agg({'period':'count'}) \\\n",
    "                    .agg({'count(period)':'avg'}) \\\n",
    "                    .withColumnRenamed(\"avg(count(period))\", \"Average time between a home page visiting\") \\\n",
    "                    .show()"
   ]
  },
  {
   "cell_type": "code",
   "execution_count": null,
   "metadata": {},
   "outputs": [],
   "source": []
  }
 ],
 "metadata": {
  "kernelspec": {
   "display_name": "Python 3",
   "language": "python",
   "name": "python3"
  },
  "language_info": {
   "codemirror_mode": {
    "name": "ipython",
    "version": 3
   },
   "file_extension": ".py",
   "mimetype": "text/x-python",
   "name": "python",
   "nbconvert_exporter": "python",
   "pygments_lexer": "ipython3",
   "version": "3.7.3"
  }
 },
 "nbformat": 4,
 "nbformat_minor": 2
}
